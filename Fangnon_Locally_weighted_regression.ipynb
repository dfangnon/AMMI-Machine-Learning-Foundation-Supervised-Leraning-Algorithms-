{
  "nbformat": 4,
  "nbformat_minor": 0,
  "metadata": {
    "colab": {
      "provenance": [],
      "include_colab_link": true
    },
    "kernelspec": {
      "name": "python3",
      "display_name": "Python 3"
    },
    "language_info": {
      "name": "python"
    },
    "widgets": {
      "application/vnd.jupyter.widget-state+json": {
        "209eb2cd561f40c492f51bf6448ba379": {
          "model_module": "@jupyter-widgets/controls",
          "model_name": "VBoxModel",
          "model_module_version": "1.5.0",
          "state": {
            "_dom_classes": [
              "widget-interact"
            ],
            "_model_module": "@jupyter-widgets/controls",
            "_model_module_version": "1.5.0",
            "_model_name": "VBoxModel",
            "_view_count": null,
            "_view_module": "@jupyter-widgets/controls",
            "_view_module_version": "1.5.0",
            "_view_name": "VBoxView",
            "box_style": "",
            "children": [
              "IPY_MODEL_643a61f8c5d744dfb6ac5b5e87596e73",
              "IPY_MODEL_caac195d079a4f7ebd969d2a3f53d862"
            ],
            "layout": "IPY_MODEL_1b8c2173e69c4bec9a317178ca31a300"
          }
        },
        "643a61f8c5d744dfb6ac5b5e87596e73": {
          "model_module": "@jupyter-widgets/controls",
          "model_name": "FloatSliderModel",
          "model_module_version": "1.5.0",
          "state": {
            "_dom_classes": [],
            "_model_module": "@jupyter-widgets/controls",
            "_model_module_version": "1.5.0",
            "_model_name": "FloatSliderModel",
            "_view_count": null,
            "_view_module": "@jupyter-widgets/controls",
            "_view_module_version": "1.5.0",
            "_view_name": "FloatSliderView",
            "continuous_update": true,
            "description": "tau",
            "description_tooltip": null,
            "disabled": false,
            "layout": "IPY_MODEL_76c094c10d434b96a5619dd901caf2c4",
            "max": 5,
            "min": 0.1,
            "orientation": "horizontal",
            "readout": true,
            "readout_format": ".2f",
            "step": 0.1,
            "style": "IPY_MODEL_6eb37726984b48f19d486f1acba3894f",
            "value": 4
          }
        },
        "caac195d079a4f7ebd969d2a3f53d862": {
          "model_module": "@jupyter-widgets/output",
          "model_name": "OutputModel",
          "model_module_version": "1.0.0",
          "state": {
            "_dom_classes": [],
            "_model_module": "@jupyter-widgets/output",
            "_model_module_version": "1.0.0",
            "_model_name": "OutputModel",
            "_view_count": null,
            "_view_module": "@jupyter-widgets/output",
            "_view_module_version": "1.0.0",
            "_view_name": "OutputView",
            "layout": "IPY_MODEL_fc6b790cde654028b1dda842d215dca8",
            "msg_id": "",
            "outputs": [
              {
                "output_type": "stream",
                "name": "stderr",
                "text": [
                  "/usr/local/lib/python3.9/dist-packages/plotly/graph_objs/_deprecations.py:378: DeprecationWarning: plotly.graph_objs.Line is deprecated.\n",
                  "Please replace it with one of the following more specific types\n",
                  "  - plotly.graph_objs.scatter.Line\n",
                  "  - plotly.graph_objs.layout.shape.Line\n",
                  "  - etc.\n",
                  "\n",
                  "  warnings.warn(\n"
                ]
              },
              {
                "output_type": "display_data",
                "data": {
                  "text/html": "<html>\n<head><meta charset=\"utf-8\" /></head>\n<body>\n    <div>            <script src=\"https://cdnjs.cloudflare.com/ajax/libs/mathjax/2.7.5/MathJax.js?config=TeX-AMS-MML_SVG\"></script><script type=\"text/javascript\">if (window.MathJax) {MathJax.Hub.Config({SVG: {font: \"STIX-Web\"}});}</script>                <script type=\"text/javascript\">window.PlotlyConfig = {MathJaxConfig: 'local'};</script>\n        <script src=\"https://cdn.plot.ly/plotly-2.8.3.min.js\"></script>                <div id=\"307ee94d-993f-42f0-80bc-8e1777d2086f\" class=\"plotly-graph-div\" style=\"height:500px; width:500px;\"></div>            <script type=\"text/javascript\">                                    window.PLOTLYENV=window.PLOTLYENV || {};                                    if (document.getElementById(\"307ee94d-993f-42f0-80bc-8e1777d2086f\")) {                    Plotly.newPlot(                        \"307ee94d-993f-42f0-80bc-8e1777d2086f\",                        [{\"mode\":\"lines\",\"x\":[-10.0,-9.9,-9.8,-9.700000000000001,-9.600000000000001,-9.500000000000002,-9.400000000000002,-9.300000000000002,-9.200000000000003,-9.100000000000003,-9.000000000000004,-8.900000000000004,-8.800000000000004,-8.700000000000005,-8.600000000000005,-8.500000000000005,-8.400000000000006,-8.300000000000006,-8.200000000000006,-8.100000000000007,-8.000000000000007,-7.9000000000000075,-7.800000000000008,-7.700000000000008,-7.6000000000000085,-7.500000000000009,-7.400000000000009,-7.30000000000001,-7.20000000000001,-7.10000000000001,-7.000000000000011,-6.900000000000011,-6.800000000000011,-6.700000000000012,-6.600000000000012,-6.500000000000012,-6.400000000000013,-6.300000000000013,-6.2000000000000135,-6.100000000000014,-6.000000000000014,-5.900000000000015,-5.800000000000015,-5.700000000000015,-5.600000000000016,-5.500000000000016,-5.400000000000016,-5.300000000000017,-5.200000000000017,-5.100000000000017,-5.000000000000018,-4.900000000000018,-4.8000000000000185,-4.700000000000019,-4.600000000000019,-4.5000000000000195,-4.40000000000002,-4.30000000000002,-4.200000000000021,-4.100000000000021,-4.000000000000021,-3.9000000000000217,-3.800000000000022,-3.7000000000000224,-3.6000000000000227,-3.500000000000023,-3.4000000000000234,-3.300000000000024,-3.200000000000024,-3.1000000000000245,-3.000000000000025,-2.9000000000000252,-2.8000000000000256,-2.700000000000026,-2.6000000000000263,-2.5000000000000266,-2.400000000000027,-2.3000000000000274,-2.2000000000000277,-2.100000000000028,-2.0000000000000284,-1.9000000000000288,-1.8000000000000291,-1.7000000000000295,-1.6000000000000298,-1.5000000000000302,-1.4000000000000306,-1.300000000000031,-1.2000000000000313,-1.1000000000000316,-1.000000000000032,-0.9000000000000323,-0.8000000000000327,-0.700000000000033,-0.6000000000000334,-0.5000000000000338,-0.4000000000000341,-0.30000000000003446,-0.20000000000003482,-0.10000000000003517,-3.552713678800501e-14,0.09999999999996412,0.19999999999996376,0.2999999999999634,0.39999999999996305,0.4999999999999627,0.5999999999999623,0.699999999999962,0.7999999999999616,0.8999999999999613,0.9999999999999609,1.0999999999999606,1.1999999999999602,1.2999999999999599,1.3999999999999595,1.4999999999999591,1.5999999999999588,1.6999999999999584,1.799999999999958,1.8999999999999577,1.9999999999999574,2.099999999999957,2.1999999999999567,2.2999999999999563,2.399999999999956,2.4999999999999556,2.5999999999999552,2.699999999999955,2.7999999999999545,2.899999999999954,2.999999999999954,3.0999999999999535,3.199999999999953,3.2999999999999527,3.3999999999999524,3.499999999999952,3.5999999999999517,3.6999999999999513,3.799999999999951,3.8999999999999506,3.9999999999999503,4.09999999999995,4.1999999999999496,4.299999999999949,4.399999999999949,4.4999999999999485,4.599999999999948,4.699999999999948,4.799999999999947,4.899999999999947,4.999999999999947,5.099999999999946,5.199999999999946,5.299999999999946,5.399999999999945,5.499999999999945,5.599999999999945,5.699999999999944,5.799999999999944,5.8999999999999435,5.999999999999943,6.099999999999945,6.1999999999999424,6.29999999999994,6.399999999999942,6.499999999999943,6.599999999999941,6.699999999999939,6.79999999999994,6.899999999999942,6.99999999999994,7.0999999999999375,7.199999999999939,7.29999999999994,7.399999999999938,7.499999999999936,7.5999999999999375,7.699999999999939,7.799999999999937,7.899999999999935,7.999999999999936,8.099999999999937,8.199999999999935,8.299999999999933,8.399999999999935,8.499999999999936,8.599999999999934,8.699999999999932,8.799999999999933,8.899999999999935,8.999999999999932,9.09999999999993,9.199999999999932,9.299999999999933,9.399999999999931,9.499999999999929,9.59999999999993,9.699999999999932,9.79999999999993,9.899999999999928],\"y\":[0.04393693362340742,0.046756008847947915,0.04972487341234958,0.05284921077918514,0.05613476283413368,0.05958731876198603,0.06321270307528877,0.06701676278920718,0.07100535373963685,0.075184326045271,0.0795595087182275,0.08413669343194775,0.08892161745938615,0.09391994579900417,0.09913725251074712,0.10457900128900117,0.11025052530448487,0.11615700635209653,0.12230345334690018,0.1286946802156618,0.1353352832366122,0.14222961788539482,0.14938177525041746,0.1567955580860391,0.1644744565771542,0.1724216238937521,0.18063985161889318,0.18913154513822472,0.1978986990836138,0.20694287292767666,0.21626516682988628,0.22586619783851342,0.2357460765558624,0.24590438437706647,0.2563401514150723,0.26705183522634196,0.2780373004531927,0.2892937994995602,0.300817954357274,0.3126057396996537,0.324652467358348,0.33695277229782333,0.3495006001997546,0.36228919676675375,0.3753110988513975,0.38855812751236196,0.40202138309465263,0.41569124242542493,0.42955735821073676,0.44360866071176935,0.4578333617716117,0.47221896125565116,0.48675225595996896,0.5014193510329377,0.5162056739454935,0.5310959910353422,0.5460744266397064,0.5611244848201714,0.5762290736717968,0.591370532196978,0.6065306597126302,0.6216907477471899,0.6368316143717397,0.651933640897342,0.6669768108584709,0.6819407511903447,0.6968047754960314,0.7115479292875332,0.7261490370736874,0.7405867511567483,0.7548396019890038,0.7688860499307885,0.7827045382418647,0.7962735471294158,0.8095716486678834,0.8225775623986612,0.8352702114112687,0.8476287787021325,0.8596327636025389,0.8712620380637363,0.8824969025845922,0.8933181415656795,0.903707077873193,0.9136456263967261,0.923116346386633,0.9321024923595249,0.9405880633643395,0.9485578504064206,0.9559974818330976,0.9628934664913607,0.9692332344763421,0.975005175298416,0.9801986733067537,0.984804140218094,0.9888130446112318,0.9922179382602425,0.9950124791926814,0.9971914513728443,0.9987507809245805,0.9996875488230389,1.0,0.9996875488230393,0.9987507809245814,0.9971914513728456,0.9950124791926832,0.9922179382602446,0.9888130446112344,0.9848041402180971,0.9801986733067571,0.9750051752984199,0.9692332344763465,0.9628934664913654,0.9559974818331027,0.948557850406426,0.9405880633643454,0.9321024923595311,0.9231163463866396,0.913645626396733,0.9037070778732003,0.893318141565687,0.8824969025846001,0.8712620380637444,0.8596327636025474,0.8476287787021412,0.8352702114112776,0.8225775623986703,0.8095716486678928,0.7962735471294253,0.7827045382418744,0.7688860499307983,0.7548396019890139,0.7405867511567584,0.7261490370736977,0.7115479292875436,0.6968047754960418,0.6819407511903552,0.6669768108584816,0.6519336408973527,0.6368316143717505,0.6216907477472007,0.606530659712641,0.5913705321969888,0.5762290736718075,0.5611244848201821,0.5460744266397172,0.5310959910353529,0.5162056739455041,0.5014193510329481,0.48675225595997934,0.4722189612556615,0.45783336177162187,0.4436086607117794,0.4295573582107467,0.4156912424254347,0.4020213830946623,0.38855812751237145,0.37531109885140684,0.3622891967667629,0.3495006001997636,0.33695277229783216,0.3246524673583567,0.31260573969966193,0.30081795435728226,0.2892937994995685,0.27803730045320063,0.2670518352263495,0.2563401514150798,0.24590438437707393,0.23574607655586954,0.22586619783852013,0.216265166829893,0.20694287292768332,0.1978986990836201,0.18913154513823072,0.18063985161889912,0.17242162389375798,0.16447445657715976,0.1567955580860443,0.14938177525042262,0.14222961788539995,0.13533528323661703,0.12869468021566632,0.12230345334690462,0.11615700635210091,0.11025052530448899,0.10457900128900498,0.09913725251075091,0.09391994579900789,0.08892161745938962,0.08413669343195097,0.07955950871823068,0.07518432604527411,0.07100535373963976,0.06701676278920989,0.06321270307529141,0.0595873187619886,0.05613476283413607,0.05284921077918735,0.049724873412351746,0.04675600884795001],\"type\":\"scatter\"}],                        {\"template\":{\"data\":{\"bar\":[{\"error_x\":{\"color\":\"#2a3f5f\"},\"error_y\":{\"color\":\"#2a3f5f\"},\"marker\":{\"line\":{\"color\":\"#E5ECF6\",\"width\":0.5},\"pattern\":{\"fillmode\":\"overlay\",\"size\":10,\"solidity\":0.2}},\"type\":\"bar\"}],\"barpolar\":[{\"marker\":{\"line\":{\"color\":\"#E5ECF6\",\"width\":0.5},\"pattern\":{\"fillmode\":\"overlay\",\"size\":10,\"solidity\":0.2}},\"type\":\"barpolar\"}],\"carpet\":[{\"aaxis\":{\"endlinecolor\":\"#2a3f5f\",\"gridcolor\":\"white\",\"linecolor\":\"white\",\"minorgridcolor\":\"white\",\"startlinecolor\":\"#2a3f5f\"},\"baxis\":{\"endlinecolor\":\"#2a3f5f\",\"gridcolor\":\"white\",\"linecolor\":\"white\",\"minorgridcolor\":\"white\",\"startlinecolor\":\"#2a3f5f\"},\"type\":\"carpet\"}],\"choropleth\":[{\"colorbar\":{\"outlinewidth\":0,\"ticks\":\"\"},\"type\":\"choropleth\"}],\"contour\":[{\"colorbar\":{\"outlinewidth\":0,\"ticks\":\"\"},\"colorscale\":[[0.0,\"#0d0887\"],[0.1111111111111111,\"#46039f\"],[0.2222222222222222,\"#7201a8\"],[0.3333333333333333,\"#9c179e\"],[0.4444444444444444,\"#bd3786\"],[0.5555555555555556,\"#d8576b\"],[0.6666666666666666,\"#ed7953\"],[0.7777777777777778,\"#fb9f3a\"],[0.8888888888888888,\"#fdca26\"],[1.0,\"#f0f921\"]],\"type\":\"contour\"}],\"contourcarpet\":[{\"colorbar\":{\"outlinewidth\":0,\"ticks\":\"\"},\"type\":\"contourcarpet\"}],\"heatmap\":[{\"colorbar\":{\"outlinewidth\":0,\"ticks\":\"\"},\"colorscale\":[[0.0,\"#0d0887\"],[0.1111111111111111,\"#46039f\"],[0.2222222222222222,\"#7201a8\"],[0.3333333333333333,\"#9c179e\"],[0.4444444444444444,\"#bd3786\"],[0.5555555555555556,\"#d8576b\"],[0.6666666666666666,\"#ed7953\"],[0.7777777777777778,\"#fb9f3a\"],[0.8888888888888888,\"#fdca26\"],[1.0,\"#f0f921\"]],\"type\":\"heatmap\"}],\"heatmapgl\":[{\"colorbar\":{\"outlinewidth\":0,\"ticks\":\"\"},\"colorscale\":[[0.0,\"#0d0887\"],[0.1111111111111111,\"#46039f\"],[0.2222222222222222,\"#7201a8\"],[0.3333333333333333,\"#9c179e\"],[0.4444444444444444,\"#bd3786\"],[0.5555555555555556,\"#d8576b\"],[0.6666666666666666,\"#ed7953\"],[0.7777777777777778,\"#fb9f3a\"],[0.8888888888888888,\"#fdca26\"],[1.0,\"#f0f921\"]],\"type\":\"heatmapgl\"}],\"histogram\":[{\"marker\":{\"pattern\":{\"fillmode\":\"overlay\",\"size\":10,\"solidity\":0.2}},\"type\":\"histogram\"}],\"histogram2d\":[{\"colorbar\":{\"outlinewidth\":0,\"ticks\":\"\"},\"colorscale\":[[0.0,\"#0d0887\"],[0.1111111111111111,\"#46039f\"],[0.2222222222222222,\"#7201a8\"],[0.3333333333333333,\"#9c179e\"],[0.4444444444444444,\"#bd3786\"],[0.5555555555555556,\"#d8576b\"],[0.6666666666666666,\"#ed7953\"],[0.7777777777777778,\"#fb9f3a\"],[0.8888888888888888,\"#fdca26\"],[1.0,\"#f0f921\"]],\"type\":\"histogram2d\"}],\"histogram2dcontour\":[{\"colorbar\":{\"outlinewidth\":0,\"ticks\":\"\"},\"colorscale\":[[0.0,\"#0d0887\"],[0.1111111111111111,\"#46039f\"],[0.2222222222222222,\"#7201a8\"],[0.3333333333333333,\"#9c179e\"],[0.4444444444444444,\"#bd3786\"],[0.5555555555555556,\"#d8576b\"],[0.6666666666666666,\"#ed7953\"],[0.7777777777777778,\"#fb9f3a\"],[0.8888888888888888,\"#fdca26\"],[1.0,\"#f0f921\"]],\"type\":\"histogram2dcontour\"}],\"mesh3d\":[{\"colorbar\":{\"outlinewidth\":0,\"ticks\":\"\"},\"type\":\"mesh3d\"}],\"parcoords\":[{\"line\":{\"colorbar\":{\"outlinewidth\":0,\"ticks\":\"\"}},\"type\":\"parcoords\"}],\"pie\":[{\"automargin\":true,\"type\":\"pie\"}],\"scatter\":[{\"marker\":{\"colorbar\":{\"outlinewidth\":0,\"ticks\":\"\"}},\"type\":\"scatter\"}],\"scatter3d\":[{\"line\":{\"colorbar\":{\"outlinewidth\":0,\"ticks\":\"\"}},\"marker\":{\"colorbar\":{\"outlinewidth\":0,\"ticks\":\"\"}},\"type\":\"scatter3d\"}],\"scattercarpet\":[{\"marker\":{\"colorbar\":{\"outlinewidth\":0,\"ticks\":\"\"}},\"type\":\"scattercarpet\"}],\"scattergeo\":[{\"marker\":{\"colorbar\":{\"outlinewidth\":0,\"ticks\":\"\"}},\"type\":\"scattergeo\"}],\"scattergl\":[{\"marker\":{\"colorbar\":{\"outlinewidth\":0,\"ticks\":\"\"}},\"type\":\"scattergl\"}],\"scattermapbox\":[{\"marker\":{\"colorbar\":{\"outlinewidth\":0,\"ticks\":\"\"}},\"type\":\"scattermapbox\"}],\"scatterpolar\":[{\"marker\":{\"colorbar\":{\"outlinewidth\":0,\"ticks\":\"\"}},\"type\":\"scatterpolar\"}],\"scatterpolargl\":[{\"marker\":{\"colorbar\":{\"outlinewidth\":0,\"ticks\":\"\"}},\"type\":\"scatterpolargl\"}],\"scatterternary\":[{\"marker\":{\"colorbar\":{\"outlinewidth\":0,\"ticks\":\"\"}},\"type\":\"scatterternary\"}],\"surface\":[{\"colorbar\":{\"outlinewidth\":0,\"ticks\":\"\"},\"colorscale\":[[0.0,\"#0d0887\"],[0.1111111111111111,\"#46039f\"],[0.2222222222222222,\"#7201a8\"],[0.3333333333333333,\"#9c179e\"],[0.4444444444444444,\"#bd3786\"],[0.5555555555555556,\"#d8576b\"],[0.6666666666666666,\"#ed7953\"],[0.7777777777777778,\"#fb9f3a\"],[0.8888888888888888,\"#fdca26\"],[1.0,\"#f0f921\"]],\"type\":\"surface\"}],\"table\":[{\"cells\":{\"fill\":{\"color\":\"#EBF0F8\"},\"line\":{\"color\":\"white\"}},\"header\":{\"fill\":{\"color\":\"#C8D4E3\"},\"line\":{\"color\":\"white\"}},\"type\":\"table\"}]},\"layout\":{\"annotationdefaults\":{\"arrowcolor\":\"#2a3f5f\",\"arrowhead\":0,\"arrowwidth\":1},\"autotypenumbers\":\"strict\",\"coloraxis\":{\"colorbar\":{\"outlinewidth\":0,\"ticks\":\"\"}},\"colorscale\":{\"diverging\":[[0,\"#8e0152\"],[0.1,\"#c51b7d\"],[0.2,\"#de77ae\"],[0.3,\"#f1b6da\"],[0.4,\"#fde0ef\"],[0.5,\"#f7f7f7\"],[0.6,\"#e6f5d0\"],[0.7,\"#b8e186\"],[0.8,\"#7fbc41\"],[0.9,\"#4d9221\"],[1,\"#276419\"]],\"sequential\":[[0.0,\"#0d0887\"],[0.1111111111111111,\"#46039f\"],[0.2222222222222222,\"#7201a8\"],[0.3333333333333333,\"#9c179e\"],[0.4444444444444444,\"#bd3786\"],[0.5555555555555556,\"#d8576b\"],[0.6666666666666666,\"#ed7953\"],[0.7777777777777778,\"#fb9f3a\"],[0.8888888888888888,\"#fdca26\"],[1.0,\"#f0f921\"]],\"sequentialminus\":[[0.0,\"#0d0887\"],[0.1111111111111111,\"#46039f\"],[0.2222222222222222,\"#7201a8\"],[0.3333333333333333,\"#9c179e\"],[0.4444444444444444,\"#bd3786\"],[0.5555555555555556,\"#d8576b\"],[0.6666666666666666,\"#ed7953\"],[0.7777777777777778,\"#fb9f3a\"],[0.8888888888888888,\"#fdca26\"],[1.0,\"#f0f921\"]]},\"colorway\":[\"#636efa\",\"#EF553B\",\"#00cc96\",\"#ab63fa\",\"#FFA15A\",\"#19d3f3\",\"#FF6692\",\"#B6E880\",\"#FF97FF\",\"#FECB52\"],\"font\":{\"color\":\"#2a3f5f\"},\"geo\":{\"bgcolor\":\"white\",\"lakecolor\":\"white\",\"landcolor\":\"#E5ECF6\",\"showlakes\":true,\"showland\":true,\"subunitcolor\":\"white\"},\"hoverlabel\":{\"align\":\"left\"},\"hovermode\":\"closest\",\"mapbox\":{\"style\":\"light\"},\"paper_bgcolor\":\"white\",\"plot_bgcolor\":\"#E5ECF6\",\"polar\":{\"angularaxis\":{\"gridcolor\":\"white\",\"linecolor\":\"white\",\"ticks\":\"\"},\"bgcolor\":\"#E5ECF6\",\"radialaxis\":{\"gridcolor\":\"white\",\"linecolor\":\"white\",\"ticks\":\"\"}},\"scene\":{\"xaxis\":{\"backgroundcolor\":\"#E5ECF6\",\"gridcolor\":\"white\",\"gridwidth\":2,\"linecolor\":\"white\",\"showbackground\":true,\"ticks\":\"\",\"zerolinecolor\":\"white\"},\"yaxis\":{\"backgroundcolor\":\"#E5ECF6\",\"gridcolor\":\"white\",\"gridwidth\":2,\"linecolor\":\"white\",\"showbackground\":true,\"ticks\":\"\",\"zerolinecolor\":\"white\"},\"zaxis\":{\"backgroundcolor\":\"#E5ECF6\",\"gridcolor\":\"white\",\"gridwidth\":2,\"linecolor\":\"white\",\"showbackground\":true,\"ticks\":\"\",\"zerolinecolor\":\"white\"}},\"shapedefaults\":{\"line\":{\"color\":\"#2a3f5f\"}},\"ternary\":{\"aaxis\":{\"gridcolor\":\"white\",\"linecolor\":\"white\",\"ticks\":\"\"},\"baxis\":{\"gridcolor\":\"white\",\"linecolor\":\"white\",\"ticks\":\"\"},\"bgcolor\":\"#E5ECF6\",\"caxis\":{\"gridcolor\":\"white\",\"linecolor\":\"white\",\"ticks\":\"\"}},\"title\":{\"x\":0.05},\"xaxis\":{\"automargin\":true,\"gridcolor\":\"white\",\"linecolor\":\"white\",\"ticks\":\"\",\"title\":{\"standoff\":15},\"zerolinecolor\":\"white\",\"zerolinewidth\":2},\"yaxis\":{\"automargin\":true,\"gridcolor\":\"white\",\"linecolor\":\"white\",\"ticks\":\"\",\"title\":{\"standoff\":15},\"zerolinecolor\":\"white\",\"zerolinewidth\":2}}},\"yaxis\":{\"range\":[0,1.2],\"title\":{\"text\":\"W value\"}},\"width\":500,\"height\":500,\"title\":{\"text\":\"$w(x_i) = \\\\exp(-\\\\frac{(x_i-x)^2}{2 \\\\tau^2}), \\\\ x=0$\"},\"xaxis\":{\"title\":{\"text\":\"X value\"}}},                        {\"responsive\": true}                    ).then(function(){\n                            \nvar gd = document.getElementById('307ee94d-993f-42f0-80bc-8e1777d2086f');\nvar x = new MutationObserver(function (mutations, observer) {{\n        var display = window.getComputedStyle(gd).display;\n        if (!display || display === 'none') {{\n            console.log([gd, 'removed!']);\n            Plotly.purge(gd);\n            observer.disconnect();\n        }}\n}});\n\n// Listen for the removal of the full notebook cells\nvar notebookContainer = gd.closest('#notebook-container');\nif (notebookContainer) {{\n    x.observe(notebookContainer, {childList: true});\n}}\n\n// Listen for the clearing of the current output cell\nvar outputEl = gd.closest('.output');\nif (outputEl) {{\n    x.observe(outputEl, {childList: true});\n}}\n\n                        })                };                            </script>        </div>\n</body>\n</html>"
                },
                "metadata": {}
              }
            ]
          }
        },
        "1b8c2173e69c4bec9a317178ca31a300": {
          "model_module": "@jupyter-widgets/base",
          "model_name": "LayoutModel",
          "model_module_version": "1.2.0",
          "state": {
            "_model_module": "@jupyter-widgets/base",
            "_model_module_version": "1.2.0",
            "_model_name": "LayoutModel",
            "_view_count": null,
            "_view_module": "@jupyter-widgets/base",
            "_view_module_version": "1.2.0",
            "_view_name": "LayoutView",
            "align_content": null,
            "align_items": null,
            "align_self": null,
            "border": null,
            "bottom": null,
            "display": null,
            "flex": null,
            "flex_flow": null,
            "grid_area": null,
            "grid_auto_columns": null,
            "grid_auto_flow": null,
            "grid_auto_rows": null,
            "grid_column": null,
            "grid_gap": null,
            "grid_row": null,
            "grid_template_areas": null,
            "grid_template_columns": null,
            "grid_template_rows": null,
            "height": null,
            "justify_content": null,
            "justify_items": null,
            "left": null,
            "margin": null,
            "max_height": null,
            "max_width": null,
            "min_height": null,
            "min_width": null,
            "object_fit": null,
            "object_position": null,
            "order": null,
            "overflow": null,
            "overflow_x": null,
            "overflow_y": null,
            "padding": null,
            "right": null,
            "top": null,
            "visibility": null,
            "width": null
          }
        },
        "76c094c10d434b96a5619dd901caf2c4": {
          "model_module": "@jupyter-widgets/base",
          "model_name": "LayoutModel",
          "model_module_version": "1.2.0",
          "state": {
            "_model_module": "@jupyter-widgets/base",
            "_model_module_version": "1.2.0",
            "_model_name": "LayoutModel",
            "_view_count": null,
            "_view_module": "@jupyter-widgets/base",
            "_view_module_version": "1.2.0",
            "_view_name": "LayoutView",
            "align_content": null,
            "align_items": null,
            "align_self": null,
            "border": null,
            "bottom": null,
            "display": null,
            "flex": null,
            "flex_flow": null,
            "grid_area": null,
            "grid_auto_columns": null,
            "grid_auto_flow": null,
            "grid_auto_rows": null,
            "grid_column": null,
            "grid_gap": null,
            "grid_row": null,
            "grid_template_areas": null,
            "grid_template_columns": null,
            "grid_template_rows": null,
            "height": null,
            "justify_content": null,
            "justify_items": null,
            "left": null,
            "margin": null,
            "max_height": null,
            "max_width": null,
            "min_height": null,
            "min_width": null,
            "object_fit": null,
            "object_position": null,
            "order": null,
            "overflow": null,
            "overflow_x": null,
            "overflow_y": null,
            "padding": null,
            "right": null,
            "top": null,
            "visibility": null,
            "width": null
          }
        },
        "6eb37726984b48f19d486f1acba3894f": {
          "model_module": "@jupyter-widgets/controls",
          "model_name": "SliderStyleModel",
          "model_module_version": "1.5.0",
          "state": {
            "_model_module": "@jupyter-widgets/controls",
            "_model_module_version": "1.5.0",
            "_model_name": "SliderStyleModel",
            "_view_count": null,
            "_view_module": "@jupyter-widgets/base",
            "_view_module_version": "1.2.0",
            "_view_name": "StyleView",
            "description_width": "",
            "handle_color": null
          }
        },
        "fc6b790cde654028b1dda842d215dca8": {
          "model_module": "@jupyter-widgets/base",
          "model_name": "LayoutModel",
          "model_module_version": "1.2.0",
          "state": {
            "_model_module": "@jupyter-widgets/base",
            "_model_module_version": "1.2.0",
            "_model_name": "LayoutModel",
            "_view_count": null,
            "_view_module": "@jupyter-widgets/base",
            "_view_module_version": "1.2.0",
            "_view_name": "LayoutView",
            "align_content": null,
            "align_items": null,
            "align_self": null,
            "border": null,
            "bottom": null,
            "display": null,
            "flex": null,
            "flex_flow": null,
            "grid_area": null,
            "grid_auto_columns": null,
            "grid_auto_flow": null,
            "grid_auto_rows": null,
            "grid_column": null,
            "grid_gap": null,
            "grid_row": null,
            "grid_template_areas": null,
            "grid_template_columns": null,
            "grid_template_rows": null,
            "height": null,
            "justify_content": null,
            "justify_items": null,
            "left": null,
            "margin": null,
            "max_height": null,
            "max_width": null,
            "min_height": null,
            "min_width": null,
            "object_fit": null,
            "object_position": null,
            "order": null,
            "overflow": null,
            "overflow_x": null,
            "overflow_y": null,
            "padding": null,
            "right": null,
            "top": null,
            "visibility": null,
            "width": null
          }
        }
      }
    }
  },
  "cells": [
    {
      "cell_type": "markdown",
      "metadata": {
        "id": "view-in-github",
        "colab_type": "text"
      },
      "source": [
        "<a href=\"https://colab.research.google.com/github/dfangnon/AMMI-Machine-Learning-Foundation-Supervised-Leraning-Algorithms-/blob/main/Fangnon_Locally_weighted_regression.ipynb\" target=\"_parent\"><img src=\"https://colab.research.google.com/assets/colab-badge.svg\" alt=\"Open In Colab\"/></a>"
      ]
    },
    {
      "cell_type": "markdown",
      "source": [
        "# Locally Weighted Regression"
      ],
      "metadata": {
        "id": "PayZAVO_DRZh"
      }
    },
    {
      "cell_type": "markdown",
      "source": [
        "In this tutorial you will implement locally weighted regression (LWR) and understand the differences between LWR and linear regression.\n",
        "\n",
        "The idea behind locally weighted regression (LWR) is to fit linear model in a local region about the point we want to do prediction at.\n",
        "More formally, given the point $x$ at which we want to predict the output, we minimize the following loss function:\n",
        "$$\n",
        "\\begin{align}\n",
        "L(\\theta) &= \\sum_{i=1}^{N} w(x_i) (y_i - \\theta^Tx_i)^2 \\\\\n",
        "& = (X \\theta - y)^T W (X \\theta - y)\n",
        "\\end{align}\n",
        "$$\n",
        "\n",
        "\\begin{equation}\n",
        "X = \\begin{bmatrix}\n",
        "     - (x^{(1)})^T - \\\\\n",
        "     \\vdots \\\\\n",
        "     - (x^{(n)})^T - \\\\\n",
        "     \\end{bmatrix}\n",
        "     \\in \\mathbb{R}^{m \\times n}\n",
        "\\qquad\n",
        "y = \\begin{bmatrix}\n",
        "     y^{(1)} \\\\\n",
        "     \\vdots \\\\\n",
        "     y^{(n)} \\\\\n",
        "     \\end{bmatrix}\n",
        "\\qquad\n",
        "W =  \\mathrm{diag} (w^{(i)}, \\dots , w^{(n)})\n",
        "\\end{equation}\n",
        "\n",
        "Where $w(x_i)$ is a weghting function, the purpose of this function is control the importance of each training example $(x_i, y_i)$ relative to the prediction point $x$, points which are close to $x$ will have larger weights while points which are far away from $x$ will have smaller weights.\n",
        "\n",
        "A common choice of $w(x_i)$ is of the following form\n",
        "$$\n",
        "w(x_i) = \\exp(-\\frac{(x_i-x)^2}{2 \\tau^2})\n",
        "$$\n",
        "Notice that when the example $x_i$ is close to the prediction point $x$ the weight is close to 1, and if $x_i$ is far away from $x$ the weight is close to 0.\n",
        "$\\tau$ controls the decay rate in which the weight falls from 1 to 0, the smaller the value of $\\tau$ the quciker the weight falls to 0 as the point $x_i$ move further away from $x$, you can play interactively with in the next cell to understand the affect of $\\tau$, $\\tau$ is called the bandwidth parameter.\n",
        "\n",
        "\n",
        "We can solve for $\\theta$ with a slightly modified version of the normal equations\n",
        "$$\\theta = (X^T W X)^{-1} X^T W y$$"
      ],
      "metadata": {
        "id": "wLwOk-JRDU7g"
      }
    },
    {
      "cell_type": "code",
      "source": [
        "#@title Install some dependencies for the interactive plot\n",
        "!pip install ipympl\n",
        "!pip install plotly"
      ],
      "metadata": {
        "id": "w1xgAJ1VNLQJ"
      },
      "execution_count": null,
      "outputs": []
    },
    {
      "cell_type": "markdown",
      "source": [],
      "metadata": {
        "id": "M6w9-072jgFR"
      }
    },
    {
      "cell_type": "code",
      "execution_count": null,
      "metadata": {
        "colab": {
          "base_uri": "https://localhost:8080/",
          "height": 674,
          "referenced_widgets": [
            "209eb2cd561f40c492f51bf6448ba379",
            "643a61f8c5d744dfb6ac5b5e87596e73",
            "caac195d079a4f7ebd969d2a3f53d862",
            "1b8c2173e69c4bec9a317178ca31a300",
            "76c094c10d434b96a5619dd901caf2c4",
            "6eb37726984b48f19d486f1acba3894f",
            "fc6b790cde654028b1dda842d215dca8"
          ]
        },
        "id": "ytkLiq_7DJT6",
        "outputId": "717dad3e-1a6e-4472-d388-7928b0ae25f2"
      },
      "outputs": [
        {
          "output_type": "display_data",
          "data": {
            "text/plain": [
              "interactive(children=(FloatSlider(value=4.0, description='tau', max=5.0, min=0.1), Output()), _dom_classes=('w…"
            ],
            "application/vnd.jupyter.widget-view+json": {
              "version_major": 2,
              "version_minor": 0,
              "model_id": "209eb2cd561f40c492f51bf6448ba379"
            }
          },
          "metadata": {}
        }
      ],
      "source": [
        "#@title Interactive plot for the weight function\n",
        "\n",
        "import plotly.graph_objects as go\n",
        "import ipywidgets as widgets\n",
        "from ipywidgets import interact, interact_manual\n",
        "import numpy as np\n",
        "\n",
        "@interact\n",
        "def f(tau=widgets.FloatSlider(min=0.1, max=5, step=0.1, value=4)):\n",
        "  x = 0\n",
        "  x_i = np.arange(-10, 10, 0.1)\n",
        "  w = np.exp(- (x_i - x)**2/(2*tau**2) )\n",
        "  f = go.Figure(data=go.Line(x=x_i, y=w, mode='lines'))\n",
        "  f.update_layout(yaxis_range=[0,1.2], width=500, height=500, title=r\"$w(x_i) = \\exp(-\\frac{(x_i-x)^2}{2 \\tau^2}), \\ x=0$\", xaxis_title=\"X value\", yaxis_title=\"W value\")\n",
        "  f.show()\n"
      ]
    },
    {
      "cell_type": "markdown",
      "source": [
        "# Your comments\n",
        "After playing, we notice that the point are far from the predicted value if we increase the value of tau and closed otherwise."
      ],
      "metadata": {
        "id": "5dbP7KvQDMBM"
      }
    },
    {
      "cell_type": "markdown",
      "source": [
        "# Training Data"
      ],
      "metadata": {
        "id": "KoFvuAIljkqq"
      }
    },
    {
      "cell_type": "code",
      "source": [
        "import matplotlib.pyplot as plt\n",
        "import matplotlib\n",
        "matplotlib.rcParams['figure.figsize'] = (10, 7)\n",
        "matplotlib.rcParams['legend.fontsize'] = 15\n",
        "import numpy as np\n",
        "\n",
        "def generate_data(add_outlier=False):\n",
        "  x = np.arange(-4, 4, 0.03)\n",
        "  # if add_outlier:\n",
        "  #   x = np.concatenate([x, [3, 5, 1]], axis=0)\n",
        "  y =  x**3*np.sin(x)\n",
        "  # y = 2*x\n",
        "  plt.plot(x, y, label=\"Data generating function\", color=\"red\")\n",
        "  x = np.arange(-4, 4, 0.3)\n",
        "  # if add_outlier:\n",
        "  #   x = np.concatenate([x, [3, 5, 1]], axis=0)\n",
        "  y =  x**3*np.sin(x)\n",
        "  noise = np.random.randn(x.shape[0]) * 5\n",
        "  y += noise\n",
        "  if add_outlier:\n",
        "    x = np.concatenate([x, [3, 5, -1, 1, 0]], axis=0)\n",
        "    y = np.concatenate([y, [300, 200, 100, -100, 500]], axis=0)\n",
        "  plt.scatter(x, y, label=\"Data samples\", color=\"blue\")\n",
        "  font = {\"size\":15}\n",
        "  plt.legend()\n",
        "  plt.xlabel(\"x\", fontdict=font)\n",
        "  plt.ylabel(\"y\", fontdict=font)\n",
        "  plt.title(\"Training Data\", fontdict=font)\n",
        "  return x.reshape(-1, 1), y.reshape(-1, 1)\n",
        "  \n",
        "\n",
        "x_train, y_train = generate_data()"
      ],
      "metadata": {
        "colab": {
          "base_uri": "https://localhost:8080/",
          "height": 465
        },
        "id": "R2uMWNpxjm6a",
        "outputId": "aa5a8187-9ca8-44ca-8062-74c25d16522f"
      },
      "execution_count": null,
      "outputs": [
        {
          "output_type": "display_data",
          "data": {
            "text/plain": [
              "<Figure size 720x504 with 1 Axes>"
            ],
            "image/png": "[encoded data removed]"
          },
          "metadata": {
            "needs_background": "light"
          }
        }
      ]
    },
    {
      "cell_type": "code",
      "source": [
        "x_train.shape"
      ],
      "metadata": {
        "colab": {
          "base_uri": "https://localhost:8080/"
        },
        "id": "AdfEt3jabu3Z",
        "outputId": "39c70105-389d-4338-b711-f2ce3f0e81b1"
      },
      "execution_count": null,
      "outputs": [
        {
          "output_type": "execute_result",
          "data": {
            "text/plain": [
              "(27, 1)"
            ]
          },
          "metadata": {},
          "execution_count": 3
        }
      ]
    },
    {
      "cell_type": "markdown",
      "source": [
        "# LWR Model\n",
        "\n",
        "\n"
      ],
      "metadata": {
        "id": "NJPgR3dvpEDP"
      }
    },
    {
      "cell_type": "code",
      "source": [
        "from os import XATTR_CREATE\n",
        "class LWR:\n",
        "  def __init__(self, lr, tau):\n",
        "    # lr: learning rate\n",
        "    # epochs: training\n",
        "    # tau: bandwidth parameter\n",
        "    self.lr = lr\n",
        "    self.theta = None\n",
        "    self.tau = tau\n",
        "\n",
        "\n",
        "  def add_ones(self, x):\n",
        "    # add ones to the front of each feature vector to account for the bias term \n",
        "    # save the value in x_with_ones, for the tutorial dataset the shape should be (batch_size, 2)\n",
        "    one = np.ones((x.shape[0], 1))\n",
        "    # print(one.shape, x.shape)\n",
        "    x_with_ones = np.hstack((one, x))\n",
        "    ##### write your code here #####\n",
        "\n",
        "    ##### End of your code #####\n",
        "    return x_with_ones\n",
        "\n",
        "  \n",
        "  def _weighting_function(self, x_pred):\n",
        "    # Implement the weighting function w(x_i) as described above and store the value in w_matrix\n",
        "    # w_matrix is diagonal matrix with shape (batch_size, batch_size)\n",
        "    # x_pred: prediction point\n",
        "    #w_matrix = None\n",
        "    w_func= np.exp(-(np.linalg.norm(x_train - x_pred, axis = 1)/2*self.tau**2)) # The shape of w should be ...\n",
        "    w_matrix = np.diag(w_func)\n",
        "    ##### write your code here #####\n",
        "\n",
        "    ##### End of your code ##### \n",
        "    # Hint: to construct a digonal matrix use np.diag\n",
        "    return w_matrix\n",
        "\n",
        "\n",
        "  def fit(self,x_train, y_train):\n",
        "    # Save the traing examples as class attributes\n",
        "    # Method parameters:\n",
        "    # x_train: The input features\n",
        "    # y_train: The output targets\n",
        "    ##### write your code here #####\n",
        "    self.x_train = x_train\n",
        "    self.y_train = y_train\n",
        "\n",
        "    ##### End of your code #####\n",
        "    return None\n",
        "\n",
        "\n",
        "  def predict(self, x_pred):\n",
        "    # Predict the output given x_pred\n",
        "    # add ones to the training and predicton points\n",
        "    # Compute the weights matrix\n",
        "    # compute the model parameters with the normal equations described above\n",
        "    # return y_pred\n",
        "\n",
        "    x_train_one = self.add_ones(self.x_train)\n",
        "    x_pred_one = self.add_ones(x_pred)\n",
        "    w_matrix = self._weighting_function(x_pred_one)\n",
        "    # print(x_train_one.shape, w_matrix.shape, y_train.shape)\n",
        "    self.theta = np.linalg.inv(x_train_one.T@w_matrix@x_train_one)@x_train_one.T@w_matrix@self.y_train\n",
        "    # print(self.theta.shape, x_pred_one.shape)\n",
        "\n",
        "    y_pred = self.theta.T @ x_pred_one.T\n",
        "    ##### write your code here #####\n",
        "    \n",
        "    \n",
        "    ##### End of your code #####\n",
        "    return y_pred\n"
      ],
      "metadata": {
        "id": "xMn9IvGrmD6L"
      },
      "execution_count": null,
      "outputs": []
    },
    {
      "cell_type": "code",
      "source": [],
      "metadata": {
        "id": "ijfFAXj1euwM"
      },
      "execution_count": null,
      "outputs": []
    },
    {
      "cell_type": "code",
      "source": [
        "# Now train the locally weighted regression model that you coded\n",
        "# Define the model\n",
        "# use the fit function to save the x and y training data\n",
        "# use the prediction function to compute predictions\n",
        "# use a foor loop for predicting each value in x_pred, save it y_preds\n",
        "x_pred = np.arange(-4, 4, 0.03)\n",
        "y_preds = []\n",
        "##### write your code here #####\n",
        "\n",
        "model = LWR(0.1, 0.0001)\n",
        "model.fit(x_train,y_train)\n",
        "\n",
        "# for loop\n",
        "for x in x_pred:\n",
        "  pred1 = model.predict(x.reshape(-1, 1))\n",
        "  y_preds.append(pred1[0,0])\n",
        "  # \n",
        "#y_preds\n",
        "##### End of your code #####\n",
        "# Optional Challange: can you predict the value without for loop?"
      ],
      "metadata": {
        "id": "VkfHg08WsKyf"
      },
      "execution_count": null,
      "outputs": []
    },
    {
      "cell_type": "markdown",
      "source": [
        "Plot the prediction output"
      ],
      "metadata": {
        "id": "8xXTRhLcs5gp"
      }
    },
    {
      "cell_type": "code",
      "source": [
        "def plot(x_train, y_train, x_pred, y_pred):\n",
        "  plt.figure()\n",
        "  plt.plot(x_train, y_train, 'bx', label='label')\n",
        "  plt.plot(x_pred, y_pred, 'ro', label='prediction')\n",
        "  plt.suptitle(\"Training Set\", fontsize=12)\n",
        "  plt.legend(loc='upper left')"
      ],
      "metadata": {
        "id": "-i9E3n2Bs4Gd"
      },
      "execution_count": null,
      "outputs": []
    },
    {
      "cell_type": "code",
      "source": [
        "# Use the plot function \n",
        "plot(x_train, y_train, x_pred, y_preds)"
      ],
      "metadata": {
        "id": "x9MA96n3tleb",
        "colab": {
          "base_uri": "https://localhost:8080/",
          "height": 479
        },
        "outputId": "8ffa16b5-aebc-47dc-b7a0-7edc524ef346"
      },
      "execution_count": null,
      "outputs": [
        {
          "output_type": "display_data",
          "data": {
            "text/plain": [
              "<Figure size 720x504 with 1 Axes>"
            ],
            "image/png": "[encoded data removed]"
          },
          "metadata": {
            "needs_background": "light"
          }
        }
      ]
    },
    {
      "cell_type": "code",
      "source": [
        "# How tau affect the solution?\n",
        "# Try different values of tau and observe the effect on the prediction by plotting them as above\n",
        "# Write on observations as comment in the next cell"
      ],
      "metadata": {
        "id": "O-o4v8livbwk"
      },
      "execution_count": null,
      "outputs": []
    },
    {
      "cell_type": "code",
      "source": [
        "# Your comments"
      ],
      "metadata": {
        "id": "Xq6Zjg_zFs7N"
      },
      "execution_count": null,
      "outputs": []
    },
    {
      "cell_type": "markdown",
      "source": [
        "# Robustness to outliers \n",
        "\n",
        "Locally weighting regression is better in handling outlier beucase the weighting function will give it a small weights"
      ],
      "metadata": {
        "id": "Kb4lyIA8t5Iu"
      }
    },
    {
      "cell_type": "code",
      "source": [
        "# Generate dataset with \n",
        "x_train, y_train = generate_data(add_outlier=True)"
      ],
      "metadata": {
        "colab": {
          "base_uri": "https://localhost:8080/",
          "height": 465
        },
        "id": "45kWOHH4t-aZ",
        "outputId": "e97b6c69-14e0-4d26-aa01-b1836aa9fdd0"
      },
      "execution_count": null,
      "outputs": [
        {
          "output_type": "display_data",
          "data": {
            "text/plain": [
              "<Figure size 720x504 with 1 Axes>"
            ],
            "image/png": "[encoded data removed]"
          },
          "metadata": {
            "needs_background": "light"
          }
        }
      ]
    },
    {
      "cell_type": "code",
      "source": [
        "# train LWR on the new data and save the prediction values\n",
        "lwr_preds = LWR(0.1, 0.1)\n",
        "##### write your code here #####\n",
        "\n",
        "x_pred = np.arange(-4, 4, 0.03)\n",
        "y_preds = []\n",
        "##### write your code here #####\n",
        "\n",
        "lwr_preds.fit(x_train,y_train)\n",
        "\n",
        "# for loop\n",
        "for x in x_pred:\n",
        "  pred1 = lwr_preds.predict(x.reshape(-1, 1))\n",
        "  y_preds.append(pred1[0,0])\n",
        "\n",
        "#y_preds\n",
        "##### End of your code #####\n",
        "# Optional Challange: can you predict the value without for loop?\n",
        "\n",
        "##### End of your code #####"
      ],
      "metadata": {
        "id": "aXcqrUIevkWE"
      },
      "execution_count": null,
      "outputs": []
    },
    {
      "cell_type": "code",
      "source": [
        "# compare the results with a linear regression model\n",
        "from sklearn.linear_model import LinearRegression\n",
        "##### write your code here #####\n",
        "reg = LinearRegression().fit(x_train.reshape(-1, 1), y_train.reshape(-1, 1), )\n",
        "linear_reg_preds = reg.predict(x_pred.reshape(-1, 1))\n",
        "##### End of your code #####"
      ],
      "metadata": {
        "id": "0f_P3MgcwBLN"
      },
      "execution_count": null,
      "outputs": []
    },
    {
      "cell_type": "code",
      "source": [
        "# Plot the predictins from LWR and linear regresson\n",
        "plt.figure()\n",
        "plt.plot(x_train, y_train, 'bx', label='label')\n",
        "plt.plot(x_pred, y_preds, 'ro', label='LWR prediction')\n",
        "plt.plot(x_pred, linear_reg_preds, 'go', label='Linear regression prediction')\n",
        "plt.suptitle(\"Training Set\", fontsize=12)\n",
        "plt.legend(loc='upper left')"
      ],
      "metadata": {
        "id": "k28pTyCiw3Tw",
        "colab": {
          "base_uri": "https://localhost:8080/",
          "height": 497
        },
        "outputId": "3ff7280b-b4e8-4bfe-ca1a-045715e6e975"
      },
      "execution_count": null,
      "outputs": [
        {
          "output_type": "execute_result",
          "data": {
            "text/plain": [
              "<matplotlib.legend.Legend at 0x7f3c9dda49d0>"
            ]
          },
          "metadata": {},
          "execution_count": 30
        },
        {
          "output_type": "display_data",
          "data": {
            "text/plain": [
              "<Figure size 720x504 with 1 Axes>"
            ],
            "image/png": "[encoded data removed]"
          },
          "metadata": {
            "needs_background": "light"
          }
        }
      ]
    },
    {
      "cell_type": "code",
      "source": [
        "# How tau affect the sensitivity to outliers?\n",
        "# Try different values of tau and observe the effect on the prediction by plotting them as above\n",
        "# Write on observations as comment in the next cell"
      ],
      "metadata": {
        "id": "rRlQvDqGF5k4"
      },
      "execution_count": null,
      "outputs": []
    },
    {
      "cell_type": "code",
      "source": [
        "# Your comments"
      ],
      "metadata": {
        "id": "M9zPNnCdGCiF"
      },
      "execution_count": null,
      "outputs": []
    },
    {
      "cell_type": "code",
      "source": [],
      "metadata": {
        "id": "RPeVpj6aylz6"
      },
      "execution_count": null,
      "outputs": []
    }
  ]
}